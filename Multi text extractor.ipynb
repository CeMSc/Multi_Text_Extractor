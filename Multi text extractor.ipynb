{
 "cells": [
  {
   "cell_type": "code",
   "execution_count": 1,
   "metadata": {},
   "outputs": [
    {
     "name": "stdout",
     "output_type": "stream",
     "text": [
      "Converted 'AYKHN462376203698894.pdf' to Markdown format as 'AYKHN462376203698894.txt'.\n",
      "Converted 'BVTCH887433695074115.pdf' to Markdown format as 'BVTCH887433695074115.txt'.\n",
      "Converted 'CPCCU328169921838008.pdf' to Markdown format as 'CPCCU328169921838008.txt'.\n",
      "Converted 'DCDWF474695898403043.pdf' to Markdown format as 'DCDWF474695898403043.txt'.\n",
      "Converted 'EPCLN350055445701339.pdf' to Markdown format as 'EPCLN350055445701339.txt'.\n",
      "Converted 'GCYDJ613756872589094.pdf' to Markdown format as 'GCYDJ613756872589094.txt'.\n",
      "Converted 'GKKMF460375310283237.pdf' to Markdown format as 'GKKMF460375310283237.txt'.\n",
      "Converted 'GWINA640121462959159.pdf' to Markdown format as 'GWINA640121462959159.txt'.\n",
      "Converted 'GYBHM412085956672202.pdf' to Markdown format as 'GYBHM412085956672202.txt'.\n",
      "Converted 'JDCOO910192708199279.pdf' to Markdown format as 'JDCOO910192708199279.txt'.\n",
      "Converted 'JEPFU743554593716474.pdf' to Markdown format as 'JEPFU743554593716474.txt'.\n",
      "Converted 'JUEHQ807721548413263.pdf' to Markdown format as 'JUEHQ807721548413263.txt'.\n",
      "Converted 'KRNML311626731322750.pdf' to Markdown format as 'KRNML311626731322750.txt'.\n",
      "Converted 'KVFSG739527612278104.pdf' to Markdown format as 'KVFSG739527612278104.txt'.\n",
      "Converted 'KZTGF566123380119156.pdf' to Markdown format as 'KZTGF566123380119156.txt'.\n",
      "Converted 'LCBXJ702131487169254.pdf' to Markdown format as 'LCBXJ702131487169254.txt'.\n",
      "Converted 'LTLVR644519343792066.pdf' to Markdown format as 'LTLVR644519343792066.txt'.\n",
      "Converted 'LUDVM732100704228739.pdf' to Markdown format as 'LUDVM732100704228739.txt'.\n",
      "Converted 'LUOSQ390485377736874.pdf' to Markdown format as 'LUOSQ390485377736874.txt'.\n",
      "Converted 'MDUNL209979400796091.pdf' to Markdown format as 'MDUNL209979400796091.txt'.\n",
      "Converted 'NOLVB532673424309622.pdf' to Markdown format as 'NOLVB532673424309622.txt'.\n",
      "Converted 'NQIEH673401823397725.pdf' to Markdown format as 'NQIEH673401823397725.txt'.\n",
      "Converted 'NSUQO856808771454455.pdf' to Markdown format as 'NSUQO856808771454455.txt'.\n",
      "Converted 'OFWQZ778179434063446.pdf' to Markdown format as 'OFWQZ778179434063446.txt'.\n",
      "Converted 'OLMRN368696132199326.pdf' to Markdown format as 'OLMRN368696132199326.txt'.\n",
      "Converted 'OZHFT972460281175556.pdf' to Markdown format as 'OZHFT972460281175556.txt'.\n",
      "Converted 'PEYOZ738646156334440.pdf' to Markdown format as 'PEYOZ738646156334440.txt'.\n",
      "Converted 'PHLIR807215295474773.pdf' to Markdown format as 'PHLIR807215295474773.txt'.\n",
      "Converted 'PMZFL694510860003533.pdf' to Markdown format as 'PMZFL694510860003533.txt'.\n",
      "Converted 'QEJPZ250714294296611.pdf' to Markdown format as 'QEJPZ250714294296611.txt'.\n",
      "Converted 'QIVPA382269030110611.pdf' to Markdown format as 'QIVPA382269030110611.txt'.\n",
      "Converted 'QMHAN423137953369306.pdf' to Markdown format as 'QMHAN423137953369306.txt'.\n"
     ]
    }
   ],
   "source": [
    "# HYBRID OF TEXT EXTRACTION TOOLS WITH TESSERACT OCR. CONVERT PDF TO MARKDOWN FORMAT.\n",
    "\n",
    "import os\n",
    "import fitz  \n",
    "from pdf2image import convert_from_path\n",
    "import pytesseract\n",
    "import pypandoc\n",
    "\n",
    "def extract_text_or_perform_ocr(pdf_path, page_number):\n",
    "    \"\"\"Extracts text from a PDF page; performs OCR if the page is image-based.\"\"\"\n",
    "    doc = fitz.open(pdf_path)\n",
    "    page = doc[page_number]\n",
    "    text = page.get_text().strip()\n",
    "    doc.close()\n",
    "\n",
    "    if not text:  # If no text, perform OCR on the page\n",
    "        images = convert_from_path(pdf_path, first_page=page_number + 1, last_page=page_number + 1)\n",
    "        text = pytesseract.image_to_string(images[0])\n",
    "    \n",
    "    return text\n",
    "\n",
    "def convert_pdf_to_md(pdf_path, output_path):\n",
    "    \"\"\"Converts a PDF file to Markdown format using Pandoc.\"\"\"\n",
    "    doc = fitz.open(pdf_path)\n",
    "    # Extract text from each page (with OCR for image-based pages)\n",
    "    texts = [extract_text_or_perform_ocr(pdf_path, pn) for pn in range(len(doc))]\n",
    "    doc.close()\n",
    "\n",
    "    full_text = '\\n\\n'.join(texts)\n",
    "\n",
    "    # Writing the full extracted text to a temporary .txt file\n",
    "    temp_txt_path = \"temp_extracted_text.txt\"\n",
    "    with open(temp_txt_path, 'w', encoding='utf-8') as temp_file:\n",
    "        temp_file.write(full_text)\n",
    "\n",
    "    # Convert the text file to Markdown using Pandoc\n",
    "    output_md = pypandoc.convert_file(temp_txt_path, 'md', format='markdown', outputfile=output_path)\n",
    "\n",
    "    os.remove(temp_txt_path)  # Clean up the temporary file\n",
    "\n",
    "    return output_md\n",
    "\n",
    "def batch_convert_pdf_to_md(pdf_folder, output_folder):\n",
    "    \"\"\"Converts all PDF files in a folder to Markdown format.\"\"\"\n",
    "    if not os.path.exists(output_folder):\n",
    "        os.makedirs(output_folder)\n",
    "\n",
    "    for pdf_file in os.listdir(pdf_folder):\n",
    "        if pdf_file.lower().endswith('.pdf'):\n",
    "            pdf_path = os.path.join(pdf_folder, pdf_file)\n",
    "            md_filename = os.path.splitext(pdf_file)[0] + '.txt'\n",
    "            output_path = os.path.join(output_folder, md_filename)\n",
    "            convert_pdf_to_md(pdf_path, output_path)\n",
    "            print(f\"Converted '{pdf_file}' to Markdown format as '{md_filename}'.\")\n",
    "\n",
    "# Example usage\n",
    "pdf_folder = 'pdf'\n",
    "output_folder = 'txt'\n",
    "batch_convert_pdf_to_md(pdf_folder, output_folder)\n"
   ]
  },
  {
   "cell_type": "code",
   "execution_count": 1,
   "metadata": {},
   "outputs": [
    {
     "name": "stderr",
     "output_type": "stream",
     "text": [
      "Neither CUDA nor MPS are available - defaulting to CPU. Note: This module is much faster with a GPU.\n",
      "Neither CUDA nor MPS are available - defaulting to CPU. Note: This module is much faster with a GPU.\n"
     ]
    },
    {
     "name": "stdout",
     "output_type": "stream",
     "text": [
      "Converted 'BFDWJ294443998167406.pdf' to Markdown format as 'BFDWJ294443998167406.txt'.\n"
     ]
    },
    {
     "name": "stderr",
     "output_type": "stream",
     "text": [
      "Neither CUDA nor MPS are available - defaulting to CPU. Note: This module is much faster with a GPU.\n"
     ]
    },
    {
     "name": "stdout",
     "output_type": "stream",
     "text": [
      "Converted 'BSVLC438504446863059.pdf' to Markdown format as 'BSVLC438504446863059.txt'.\n"
     ]
    },
    {
     "name": "stderr",
     "output_type": "stream",
     "text": [
      "Neither CUDA nor MPS are available - defaulting to CPU. Note: This module is much faster with a GPU.\n"
     ]
    },
    {
     "name": "stdout",
     "output_type": "stream",
     "text": [
      "Converted 'BUOZN419077603018294.pdf' to Markdown format as 'BUOZN419077603018294.txt'.\n",
      "Converted 'BYNXL764719245224585.pdf' to Markdown format as 'BYNXL764719245224585.txt'.\n"
     ]
    },
    {
     "name": "stderr",
     "output_type": "stream",
     "text": [
      "Neither CUDA nor MPS are available - defaulting to CPU. Note: This module is much faster with a GPU.\n",
      "Neither CUDA nor MPS are available - defaulting to CPU. Note: This module is much faster with a GPU.\n"
     ]
    },
    {
     "name": "stdout",
     "output_type": "stream",
     "text": [
      "Converted 'CVIKU112930131656550.pdf' to Markdown format as 'CVIKU112930131656550.txt'.\n"
     ]
    },
    {
     "name": "stderr",
     "output_type": "stream",
     "text": [
      "Neither CUDA nor MPS are available - defaulting to CPU. Note: This module is much faster with a GPU.\n"
     ]
    },
    {
     "name": "stdout",
     "output_type": "stream",
     "text": [
      "Converted 'DDHNA406989948611301.pdf' to Markdown format as 'DDHNA406989948611301.txt'.\n"
     ]
    },
    {
     "name": "stderr",
     "output_type": "stream",
     "text": [
      "Neither CUDA nor MPS are available - defaulting to CPU. Note: This module is much faster with a GPU.\n",
      "Neither CUDA nor MPS are available - defaulting to CPU. Note: This module is much faster with a GPU.\n",
      "Neither CUDA nor MPS are available - defaulting to CPU. Note: This module is much faster with a GPU.\n",
      "Neither CUDA nor MPS are available - defaulting to CPU. Note: This module is much faster with a GPU.\n",
      "Neither CUDA nor MPS are available - defaulting to CPU. Note: This module is much faster with a GPU.\n",
      "Neither CUDA nor MPS are available - defaulting to CPU. Note: This module is much faster with a GPU.\n",
      "Neither CUDA nor MPS are available - defaulting to CPU. Note: This module is much faster with a GPU.\n",
      "Neither CUDA nor MPS are available - defaulting to CPU. Note: This module is much faster with a GPU.\n",
      "Neither CUDA nor MPS are available - defaulting to CPU. Note: This module is much faster with a GPU.\n",
      "Neither CUDA nor MPS are available - defaulting to CPU. Note: This module is much faster with a GPU.\n",
      "Neither CUDA nor MPS are available - defaulting to CPU. Note: This module is much faster with a GPU.\n",
      "Neither CUDA nor MPS are available - defaulting to CPU. Note: This module is much faster with a GPU.\n",
      "Neither CUDA nor MPS are available - defaulting to CPU. Note: This module is much faster with a GPU.\n",
      "Neither CUDA nor MPS are available - defaulting to CPU. Note: This module is much faster with a GPU.\n",
      "Neither CUDA nor MPS are available - defaulting to CPU. Note: This module is much faster with a GPU.\n",
      "Neither CUDA nor MPS are available - defaulting to CPU. Note: This module is much faster with a GPU.\n",
      "Neither CUDA nor MPS are available - defaulting to CPU. Note: This module is much faster with a GPU.\n",
      "Neither CUDA nor MPS are available - defaulting to CPU. Note: This module is much faster with a GPU.\n",
      "Neither CUDA nor MPS are available - defaulting to CPU. Note: This module is much faster with a GPU.\n",
      "Neither CUDA nor MPS are available - defaulting to CPU. Note: This module is much faster with a GPU.\n",
      "Neither CUDA nor MPS are available - defaulting to CPU. Note: This module is much faster with a GPU.\n",
      "Neither CUDA nor MPS are available - defaulting to CPU. Note: This module is much faster with a GPU.\n",
      "Neither CUDA nor MPS are available - defaulting to CPU. Note: This module is much faster with a GPU.\n",
      "Neither CUDA nor MPS are available - defaulting to CPU. Note: This module is much faster with a GPU.\n",
      "Neither CUDA nor MPS are available - defaulting to CPU. Note: This module is much faster with a GPU.\n",
      "Neither CUDA nor MPS are available - defaulting to CPU. Note: This module is much faster with a GPU.\n",
      "Neither CUDA nor MPS are available - defaulting to CPU. Note: This module is much faster with a GPU.\n",
      "Neither CUDA nor MPS are available - defaulting to CPU. Note: This module is much faster with a GPU.\n",
      "Neither CUDA nor MPS are available - defaulting to CPU. Note: This module is much faster with a GPU.\n",
      "Neither CUDA nor MPS are available - defaulting to CPU. Note: This module is much faster with a GPU.\n",
      "Neither CUDA nor MPS are available - defaulting to CPU. Note: This module is much faster with a GPU.\n",
      "Neither CUDA nor MPS are available - defaulting to CPU. Note: This module is much faster with a GPU.\n",
      "Neither CUDA nor MPS are available - defaulting to CPU. Note: This module is much faster with a GPU.\n",
      "Neither CUDA nor MPS are available - defaulting to CPU. Note: This module is much faster with a GPU.\n",
      "Neither CUDA nor MPS are available - defaulting to CPU. Note: This module is much faster with a GPU.\n"
     ]
    },
    {
     "name": "stdout",
     "output_type": "stream",
     "text": [
      "Converted 'DHHFY474803707097567.pdf' to Markdown format as 'DHHFY474803707097567.txt'.\n"
     ]
    },
    {
     "name": "stderr",
     "output_type": "stream",
     "text": [
      "Neither CUDA nor MPS are available - defaulting to CPU. Note: This module is much faster with a GPU.\n",
      "Neither CUDA nor MPS are available - defaulting to CPU. Note: This module is much faster with a GPU.\n"
     ]
    },
    {
     "name": "stdout",
     "output_type": "stream",
     "text": [
      "Converted 'DSGEE791709887334906.pdf' to Markdown format as 'DSGEE791709887334906.txt'.\n"
     ]
    },
    {
     "name": "stderr",
     "output_type": "stream",
     "text": [
      "Neither CUDA nor MPS are available - defaulting to CPU. Note: This module is much faster with a GPU.\n",
      "Neither CUDA nor MPS are available - defaulting to CPU. Note: This module is much faster with a GPU.\n",
      "Neither CUDA nor MPS are available - defaulting to CPU. Note: This module is much faster with a GPU.\n",
      "Neither CUDA nor MPS are available - defaulting to CPU. Note: This module is much faster with a GPU.\n"
     ]
    },
    {
     "name": "stdout",
     "output_type": "stream",
     "text": [
      "Converted 'DSIMB636936690227237.pdf' to Markdown format as 'DSIMB636936690227237.txt'.\n"
     ]
    },
    {
     "name": "stderr",
     "output_type": "stream",
     "text": [
      "Neither CUDA nor MPS are available - defaulting to CPU. Note: This module is much faster with a GPU.\n",
      "Neither CUDA nor MPS are available - defaulting to CPU. Note: This module is much faster with a GPU.\n",
      "Neither CUDA nor MPS are available - defaulting to CPU. Note: This module is much faster with a GPU.\n"
     ]
    },
    {
     "name": "stdout",
     "output_type": "stream",
     "text": [
      "Converted 'EGFOU600623631189800.pdf' to Markdown format as 'EGFOU600623631189800.txt'.\n"
     ]
    },
    {
     "name": "stderr",
     "output_type": "stream",
     "text": [
      "Neither CUDA nor MPS are available - defaulting to CPU. Note: This module is much faster with a GPU.\n",
      "Neither CUDA nor MPS are available - defaulting to CPU. Note: This module is much faster with a GPU.\n",
      "Neither CUDA nor MPS are available - defaulting to CPU. Note: This module is much faster with a GPU.\n",
      "Neither CUDA nor MPS are available - defaulting to CPU. Note: This module is much faster with a GPU.\n",
      "Neither CUDA nor MPS are available - defaulting to CPU. Note: This module is much faster with a GPU.\n",
      "Neither CUDA nor MPS are available - defaulting to CPU. Note: This module is much faster with a GPU.\n",
      "Neither CUDA nor MPS are available - defaulting to CPU. Note: This module is much faster with a GPU.\n",
      "Neither CUDA nor MPS are available - defaulting to CPU. Note: This module is much faster with a GPU.\n",
      "Neither CUDA nor MPS are available - defaulting to CPU. Note: This module is much faster with a GPU.\n",
      "Neither CUDA nor MPS are available - defaulting to CPU. Note: This module is much faster with a GPU.\n",
      "Neither CUDA nor MPS are available - defaulting to CPU. Note: This module is much faster with a GPU.\n",
      "Neither CUDA nor MPS are available - defaulting to CPU. Note: This module is much faster with a GPU.\n",
      "Neither CUDA nor MPS are available - defaulting to CPU. Note: This module is much faster with a GPU.\n",
      "Neither CUDA nor MPS are available - defaulting to CPU. Note: This module is much faster with a GPU.\n",
      "Neither CUDA nor MPS are available - defaulting to CPU. Note: This module is much faster with a GPU.\n",
      "Neither CUDA nor MPS are available - defaulting to CPU. Note: This module is much faster with a GPU.\n",
      "Neither CUDA nor MPS are available - defaulting to CPU. Note: This module is much faster with a GPU.\n",
      "Neither CUDA nor MPS are available - defaulting to CPU. Note: This module is much faster with a GPU.\n",
      "Neither CUDA nor MPS are available - defaulting to CPU. Note: This module is much faster with a GPU.\n",
      "Neither CUDA nor MPS are available - defaulting to CPU. Note: This module is much faster with a GPU.\n",
      "Neither CUDA nor MPS are available - defaulting to CPU. Note: This module is much faster with a GPU.\n",
      "Neither CUDA nor MPS are available - defaulting to CPU. Note: This module is much faster with a GPU.\n",
      "Neither CUDA nor MPS are available - defaulting to CPU. Note: This module is much faster with a GPU.\n",
      "Neither CUDA nor MPS are available - defaulting to CPU. Note: This module is much faster with a GPU.\n",
      "Neither CUDA nor MPS are available - defaulting to CPU. Note: This module is much faster with a GPU.\n",
      "Neither CUDA nor MPS are available - defaulting to CPU. Note: This module is much faster with a GPU.\n",
      "Neither CUDA nor MPS are available - defaulting to CPU. Note: This module is much faster with a GPU.\n",
      "Neither CUDA nor MPS are available - defaulting to CPU. Note: This module is much faster with a GPU.\n",
      "Neither CUDA nor MPS are available - defaulting to CPU. Note: This module is much faster with a GPU.\n",
      "Neither CUDA nor MPS are available - defaulting to CPU. Note: This module is much faster with a GPU.\n",
      "Neither CUDA nor MPS are available - defaulting to CPU. Note: This module is much faster with a GPU.\n",
      "Neither CUDA nor MPS are available - defaulting to CPU. Note: This module is much faster with a GPU.\n",
      "Neither CUDA nor MPS are available - defaulting to CPU. Note: This module is much faster with a GPU.\n",
      "Neither CUDA nor MPS are available - defaulting to CPU. Note: This module is much faster with a GPU.\n",
      "Neither CUDA nor MPS are available - defaulting to CPU. Note: This module is much faster with a GPU.\n",
      "Neither CUDA nor MPS are available - defaulting to CPU. Note: This module is much faster with a GPU.\n",
      "Neither CUDA nor MPS are available - defaulting to CPU. Note: This module is much faster with a GPU.\n"
     ]
    },
    {
     "name": "stdout",
     "output_type": "stream",
     "text": [
      "Converted 'FXYHY821521327363899.pdf' to Markdown format as 'FXYHY821521327363899.txt'.\n",
      "Converted 'IUTSO416473275051279.pdf' to Markdown format as 'IUTSO416473275051279.txt'.\n",
      "Converted 'JCGWM909548503708677.pdf' to Markdown format as 'JCGWM909548503708677.txt'.\n"
     ]
    },
    {
     "name": "stderr",
     "output_type": "stream",
     "text": [
      "Neither CUDA nor MPS are available - defaulting to CPU. Note: This module is much faster with a GPU.\n",
      "Neither CUDA nor MPS are available - defaulting to CPU. Note: This module is much faster with a GPU.\n",
      "Neither CUDA nor MPS are available - defaulting to CPU. Note: This module is much faster with a GPU.\n",
      "Neither CUDA nor MPS are available - defaulting to CPU. Note: This module is much faster with a GPU.\n",
      "Neither CUDA nor MPS are available - defaulting to CPU. Note: This module is much faster with a GPU.\n",
      "Neither CUDA nor MPS are available - defaulting to CPU. Note: This module is much faster with a GPU.\n",
      "Neither CUDA nor MPS are available - defaulting to CPU. Note: This module is much faster with a GPU.\n",
      "Neither CUDA nor MPS are available - defaulting to CPU. Note: This module is much faster with a GPU.\n"
     ]
    },
    {
     "name": "stdout",
     "output_type": "stream",
     "text": [
      "Converted 'KGVJX821721351433602.pdf' to Markdown format as 'KGVJX821721351433602.txt'.\n",
      "Converted 'KTHMN904959102109693.pdf' to Markdown format as 'KTHMN904959102109693.txt'.\n"
     ]
    },
    {
     "name": "stderr",
     "output_type": "stream",
     "text": [
      "Neither CUDA nor MPS are available - defaulting to CPU. Note: This module is much faster with a GPU.\n",
      "Neither CUDA nor MPS are available - defaulting to CPU. Note: This module is much faster with a GPU.\n",
      "Neither CUDA nor MPS are available - defaulting to CPU. Note: This module is much faster with a GPU.\n",
      "Neither CUDA nor MPS are available - defaulting to CPU. Note: This module is much faster with a GPU.\n",
      "Neither CUDA nor MPS are available - defaulting to CPU. Note: This module is much faster with a GPU.\n",
      "Neither CUDA nor MPS are available - defaulting to CPU. Note: This module is much faster with a GPU.\n",
      "Neither CUDA nor MPS are available - defaulting to CPU. Note: This module is much faster with a GPU.\n",
      "Neither CUDA nor MPS are available - defaulting to CPU. Note: This module is much faster with a GPU.\n"
     ]
    },
    {
     "name": "stdout",
     "output_type": "stream",
     "text": [
      "Converted 'LDVNK910184062431924.pdf' to Markdown format as 'LDVNK910184062431924.txt'.\n",
      "Converted 'NEBJE430008161977425.pdf' to Markdown format as 'NEBJE430008161977425.txt'.\n"
     ]
    },
    {
     "name": "stderr",
     "output_type": "stream",
     "text": [
      "Neither CUDA nor MPS are available - defaulting to CPU. Note: This module is much faster with a GPU.\n"
     ]
    },
    {
     "name": "stdout",
     "output_type": "stream",
     "text": [
      "Converted 'NHZRW299126219096885.pdf' to Markdown format as 'NHZRW299126219096885.txt'.\n",
      "Converted 'NLECU103437326390728.pdf' to Markdown format as 'NLECU103437326390728.txt'.\n",
      "Converted 'NSOCA568808643052061.pdf' to Markdown format as 'NSOCA568808643052061.txt'.\n"
     ]
    },
    {
     "name": "stderr",
     "output_type": "stream",
     "text": [
      "Neither CUDA nor MPS are available - defaulting to CPU. Note: This module is much faster with a GPU.\n",
      "Neither CUDA nor MPS are available - defaulting to CPU. Note: This module is much faster with a GPU.\n"
     ]
    },
    {
     "name": "stdout",
     "output_type": "stream",
     "text": [
      "Converted 'OEEQA680128060024161.pdf' to Markdown format as 'OEEQA680128060024161.txt'.\n"
     ]
    },
    {
     "name": "stderr",
     "output_type": "stream",
     "text": [
      "Neither CUDA nor MPS are available - defaulting to CPU. Note: This module is much faster with a GPU.\n",
      "Neither CUDA nor MPS are available - defaulting to CPU. Note: This module is much faster with a GPU.\n"
     ]
    },
    {
     "name": "stdout",
     "output_type": "stream",
     "text": [
      "Converted 'ONFYL351908871143354.pdf' to Markdown format as 'ONFYL351908871143354.txt'.\n"
     ]
    },
    {
     "name": "stderr",
     "output_type": "stream",
     "text": [
      "Neither CUDA nor MPS are available - defaulting to CPU. Note: This module is much faster with a GPU.\n",
      "Neither CUDA nor MPS are available - defaulting to CPU. Note: This module is much faster with a GPU.\n",
      "Neither CUDA nor MPS are available - defaulting to CPU. Note: This module is much faster with a GPU.\n",
      "Neither CUDA nor MPS are available - defaulting to CPU. Note: This module is much faster with a GPU.\n",
      "Neither CUDA nor MPS are available - defaulting to CPU. Note: This module is much faster with a GPU.\n",
      "Neither CUDA nor MPS are available - defaulting to CPU. Note: This module is much faster with a GPU.\n"
     ]
    },
    {
     "name": "stdout",
     "output_type": "stream",
     "text": [
      "Converted 'PJFLS954259074905912.pdf' to Markdown format as 'PJFLS954259074905912.txt'.\n",
      "Converted 'PPKDS702702030080664.pdf' to Markdown format as 'PPKDS702702030080664.txt'.\n"
     ]
    },
    {
     "name": "stderr",
     "output_type": "stream",
     "text": [
      "Neither CUDA nor MPS are available - defaulting to CPU. Note: This module is much faster with a GPU.\n"
     ]
    },
    {
     "name": "stdout",
     "output_type": "stream",
     "text": [
      "Converted 'PTLEV196172633452326.pdf' to Markdown format as 'PTLEV196172633452326.txt'.\n"
     ]
    },
    {
     "name": "stderr",
     "output_type": "stream",
     "text": [
      "Neither CUDA nor MPS are available - defaulting to CPU. Note: This module is much faster with a GPU.\n"
     ]
    },
    {
     "name": "stdout",
     "output_type": "stream",
     "text": [
      "Converted 'QCDNQ839041005188583.pdf' to Markdown format as 'QCDNQ839041005188583.txt'.\n",
      "Converted 'RIJIU327567670100008.pdf' to Markdown format as 'RIJIU327567670100008.txt'.\n"
     ]
    },
    {
     "name": "stderr",
     "output_type": "stream",
     "text": [
      "Neither CUDA nor MPS are available - defaulting to CPU. Note: This module is much faster with a GPU.\n",
      "Neither CUDA nor MPS are available - defaulting to CPU. Note: This module is much faster with a GPU.\n"
     ]
    },
    {
     "name": "stdout",
     "output_type": "stream",
     "text": [
      "Converted 'SDSRU104057636809556.pdf' to Markdown format as 'SDSRU104057636809556.txt'.\n"
     ]
    },
    {
     "name": "stderr",
     "output_type": "stream",
     "text": [
      "Neither CUDA nor MPS are available - defaulting to CPU. Note: This module is much faster with a GPU.\n"
     ]
    },
    {
     "name": "stdout",
     "output_type": "stream",
     "text": [
      "Converted 'STTHD419887220378078.pdf' to Markdown format as 'STTHD419887220378078.txt'.\n"
     ]
    },
    {
     "name": "stderr",
     "output_type": "stream",
     "text": [
      "Neither CUDA nor MPS are available - defaulting to CPU. Note: This module is much faster with a GPU.\n",
      "Neither CUDA nor MPS are available - defaulting to CPU. Note: This module is much faster with a GPU.\n",
      "Neither CUDA nor MPS are available - defaulting to CPU. Note: This module is much faster with a GPU.\n",
      "Neither CUDA nor MPS are available - defaulting to CPU. Note: This module is much faster with a GPU.\n",
      "Neither CUDA nor MPS are available - defaulting to CPU. Note: This module is much faster with a GPU.\n",
      "Neither CUDA nor MPS are available - defaulting to CPU. Note: This module is much faster with a GPU.\n",
      "Neither CUDA nor MPS are available - defaulting to CPU. Note: This module is much faster with a GPU.\n"
     ]
    },
    {
     "name": "stdout",
     "output_type": "stream",
     "text": [
      "Converted 'UOKVK340759535733471.pdf' to Markdown format as 'UOKVK340759535733471.txt'.\n",
      "Converted 'UYYHG105771761160375.pdf' to Markdown format as 'UYYHG105771761160375.txt'.\n"
     ]
    },
    {
     "name": "stderr",
     "output_type": "stream",
     "text": [
      "Neither CUDA nor MPS are available - defaulting to CPU. Note: This module is much faster with a GPU.\n",
      "Neither CUDA nor MPS are available - defaulting to CPU. Note: This module is much faster with a GPU.\n"
     ]
    },
    {
     "name": "stdout",
     "output_type": "stream",
     "text": [
      "Converted 'VMXBI813917592052114.pdf' to Markdown format as 'VMXBI813917592052114.txt'.\n",
      "Converted 'VRNQG588242250317811.pdf' to Markdown format as 'VRNQG588242250317811.txt'.\n",
      "Converted 'VTAJM960621684114851.pdf' to Markdown format as 'VTAJM960621684114851.txt'.\n"
     ]
    },
    {
     "name": "stderr",
     "output_type": "stream",
     "text": [
      "Neither CUDA nor MPS are available - defaulting to CPU. Note: This module is much faster with a GPU.\n",
      "Neither CUDA nor MPS are available - defaulting to CPU. Note: This module is much faster with a GPU.\n",
      "Neither CUDA nor MPS are available - defaulting to CPU. Note: This module is much faster with a GPU.\n",
      "Neither CUDA nor MPS are available - defaulting to CPU. Note: This module is much faster with a GPU.\n",
      "Neither CUDA nor MPS are available - defaulting to CPU. Note: This module is much faster with a GPU.\n",
      "Neither CUDA nor MPS are available - defaulting to CPU. Note: This module is much faster with a GPU.\n",
      "Neither CUDA nor MPS are available - defaulting to CPU. Note: This module is much faster with a GPU.\n",
      "Neither CUDA nor MPS are available - defaulting to CPU. Note: This module is much faster with a GPU.\n",
      "Neither CUDA nor MPS are available - defaulting to CPU. Note: This module is much faster with a GPU.\n",
      "Neither CUDA nor MPS are available - defaulting to CPU. Note: This module is much faster with a GPU.\n",
      "Neither CUDA nor MPS are available - defaulting to CPU. Note: This module is much faster with a GPU.\n",
      "Neither CUDA nor MPS are available - defaulting to CPU. Note: This module is much faster with a GPU.\n",
      "Neither CUDA nor MPS are available - defaulting to CPU. Note: This module is much faster with a GPU.\n",
      "Neither CUDA nor MPS are available - defaulting to CPU. Note: This module is much faster with a GPU.\n",
      "Neither CUDA nor MPS are available - defaulting to CPU. Note: This module is much faster with a GPU.\n",
      "Neither CUDA nor MPS are available - defaulting to CPU. Note: This module is much faster with a GPU.\n"
     ]
    },
    {
     "name": "stdout",
     "output_type": "stream",
     "text": [
      "Converted 'WBBNH258798780470062.pdf' to Markdown format as 'WBBNH258798780470062.txt'.\n",
      "Converted 'WIMFJ997717701583693.pdf' to Markdown format as 'WIMFJ997717701583693.txt'.\n",
      "Converted 'WLGRR909529393679199.pdf' to Markdown format as 'WLGRR909529393679199.txt'.\n"
     ]
    },
    {
     "name": "stderr",
     "output_type": "stream",
     "text": [
      "Neither CUDA nor MPS are available - defaulting to CPU. Note: This module is much faster with a GPU.\n"
     ]
    },
    {
     "name": "stdout",
     "output_type": "stream",
     "text": [
      "Converted 'XKNTF585826236398212.pdf' to Markdown format as 'XKNTF585826236398212.txt'.\n"
     ]
    },
    {
     "name": "stderr",
     "output_type": "stream",
     "text": [
      "Neither CUDA nor MPS are available - defaulting to CPU. Note: This module is much faster with a GPU.\n",
      "Neither CUDA nor MPS are available - defaulting to CPU. Note: This module is much faster with a GPU.\n",
      "Neither CUDA nor MPS are available - defaulting to CPU. Note: This module is much faster with a GPU.\n",
      "Neither CUDA nor MPS are available - defaulting to CPU. Note: This module is much faster with a GPU.\n",
      "Neither CUDA nor MPS are available - defaulting to CPU. Note: This module is much faster with a GPU.\n"
     ]
    },
    {
     "name": "stdout",
     "output_type": "stream",
     "text": [
      "Converted 'YRDJN367111294925160.pdf' to Markdown format as 'YRDJN367111294925160.txt'.\n",
      "Converted 'ZMMIQ461945328311158.pdf' to Markdown format as 'ZMMIQ461945328311158.txt'.\n"
     ]
    },
    {
     "name": "stderr",
     "output_type": "stream",
     "text": [
      "Neither CUDA nor MPS are available - defaulting to CPU. Note: This module is much faster with a GPU.\n",
      "Neither CUDA nor MPS are available - defaulting to CPU. Note: This module is much faster with a GPU.\n",
      "Neither CUDA nor MPS are available - defaulting to CPU. Note: This module is much faster with a GPU.\n",
      "Neither CUDA nor MPS are available - defaulting to CPU. Note: This module is much faster with a GPU.\n",
      "Neither CUDA nor MPS are available - defaulting to CPU. Note: This module is much faster with a GPU.\n",
      "Neither CUDA nor MPS are available - defaulting to CPU. Note: This module is much faster with a GPU.\n",
      "Neither CUDA nor MPS are available - defaulting to CPU. Note: This module is much faster with a GPU.\n",
      "Neither CUDA nor MPS are available - defaulting to CPU. Note: This module is much faster with a GPU.\n",
      "Neither CUDA nor MPS are available - defaulting to CPU. Note: This module is much faster with a GPU.\n",
      "Neither CUDA nor MPS are available - defaulting to CPU. Note: This module is much faster with a GPU.\n",
      "Neither CUDA nor MPS are available - defaulting to CPU. Note: This module is much faster with a GPU.\n",
      "Neither CUDA nor MPS are available - defaulting to CPU. Note: This module is much faster with a GPU.\n",
      "Neither CUDA nor MPS are available - defaulting to CPU. Note: This module is much faster with a GPU.\n",
      "Neither CUDA nor MPS are available - defaulting to CPU. Note: This module is much faster with a GPU.\n",
      "Neither CUDA nor MPS are available - defaulting to CPU. Note: This module is much faster with a GPU.\n",
      "Neither CUDA nor MPS are available - defaulting to CPU. Note: This module is much faster with a GPU.\n",
      "Neither CUDA nor MPS are available - defaulting to CPU. Note: This module is much faster with a GPU.\n",
      "Neither CUDA nor MPS are available - defaulting to CPU. Note: This module is much faster with a GPU.\n",
      "Neither CUDA nor MPS are available - defaulting to CPU. Note: This module is much faster with a GPU.\n",
      "Neither CUDA nor MPS are available - defaulting to CPU. Note: This module is much faster with a GPU.\n",
      "Neither CUDA nor MPS are available - defaulting to CPU. Note: This module is much faster with a GPU.\n",
      "Neither CUDA nor MPS are available - defaulting to CPU. Note: This module is much faster with a GPU.\n",
      "Neither CUDA nor MPS are available - defaulting to CPU. Note: This module is much faster with a GPU.\n",
      "Neither CUDA nor MPS are available - defaulting to CPU. Note: This module is much faster with a GPU.\n",
      "Neither CUDA nor MPS are available - defaulting to CPU. Note: This module is much faster with a GPU.\n",
      "Neither CUDA nor MPS are available - defaulting to CPU. Note: This module is much faster with a GPU.\n",
      "Neither CUDA nor MPS are available - defaulting to CPU. Note: This module is much faster with a GPU.\n",
      "Neither CUDA nor MPS are available - defaulting to CPU. Note: This module is much faster with a GPU.\n",
      "Neither CUDA nor MPS are available - defaulting to CPU. Note: This module is much faster with a GPU.\n",
      "Neither CUDA nor MPS are available - defaulting to CPU. Note: This module is much faster with a GPU.\n"
     ]
    },
    {
     "name": "stdout",
     "output_type": "stream",
     "text": [
      "Converted 'ZRFJG636933917014684.pdf' to Markdown format as 'ZRFJG636933917014684.txt'.\n"
     ]
    },
    {
     "name": "stderr",
     "output_type": "stream",
     "text": [
      "Neither CUDA nor MPS are available - defaulting to CPU. Note: This module is much faster with a GPU.\n"
     ]
    },
    {
     "name": "stdout",
     "output_type": "stream",
     "text": [
      "Converted 'ZTCTL912131463521557.pdf' to Markdown format as 'ZTCTL912131463521557.txt'.\n"
     ]
    }
   ],
   "source": [
    "# ALTEWRNATIVE EXTRACTION TOOLS WITH EASYOCR. CONVERT PDF TO MARKDOWN FORMAT.\n",
    "\n",
    "import os\n",
    "import fitz  # PyMuPDF\n",
    "from pdf2image import convert_from_path\n",
    "import easyocr\n",
    "import pypandoc\n",
    "import numpy as np  # Add this import at the beginning of your script\n",
    "\n",
    "def extract_text_or_perform_ocr(pdf_path, page_number):\n",
    "    \"\"\"Extracts text from a PDF page; performs OCR if the page is image-based.\"\"\"\n",
    "    doc = fitz.open(pdf_path)\n",
    "    page = doc[page_number]\n",
    "    text = page.get_text().strip()\n",
    "    doc.close()\n",
    "\n",
    "    if not text:  # If no text, perform OCR on the page\n",
    "        images = convert_from_path(pdf_path, first_page=page_number + 1, last_page=page_number + 1)\n",
    "        reader = easyocr.Reader(['en'])  # Initialize EasyOCR reader, specify language as needed\n",
    "        image_np = np.array(images[0])  # Convert PIL image to NumPy array\n",
    "        results = reader.readtext(image_np, paragraph=True)  # Use `paragraph` for better grouping\n",
    "        text = ' '.join([result[1] for result in results])\n",
    "    \n",
    "    return text\n",
    "\n",
    "def convert_pdf_to_md(pdf_path, output_path):\n",
    "    \"\"\"Converts a PDF file to Markdown format using Pandoc.\"\"\"\n",
    "    doc = fitz.open(pdf_path)\n",
    "    texts = [extract_text_or_perform_ocr(pdf_path, pn) for pn in range(len(doc))]\n",
    "    doc.close()\n",
    "\n",
    "    full_text = '\\n\\n'.join(texts)\n",
    "    temp_txt_path = \"temp_extracted_text.txt\"\n",
    "    with open(temp_txt_path, 'w', encoding='utf-8') as temp_file:\n",
    "        temp_file.write(full_text)\n",
    "\n",
    "    output_md = pypandoc.convert_file(temp_txt_path, 'md', format='markdown', outputfile=output_path)\n",
    "    os.remove(temp_txt_path)  # Clean up the temporary file\n",
    "\n",
    "    return output_md\n",
    "\n",
    "def batch_convert_pdf_to_md(pdf_folder, output_folder):\n",
    "    \"\"\"Converts all PDF files in a folder to Markdown format.\"\"\"\n",
    "    if not os.path.exists(output_folder):\n",
    "        os.makedirs(output_folder)\n",
    "\n",
    "    for pdf_file in os.listdir(pdf_folder):\n",
    "        if pdf_file.lower().endswith('.pdf'):\n",
    "            pdf_path = os.path.join(pdf_folder, pdf_file)\n",
    "            md_filename = os.path.splitext(pdf_file)[0] + '.txt'\n",
    "            output_path = os.path.join(output_folder, md_filename)\n",
    "            convert_pdf_to_md(pdf_path, output_path)\n",
    "            print(f\"Converted '{pdf_file}' to Markdown format as '{md_filename}'.\")\n",
    "\n",
    "# Example usage\n",
    "pdf_folder = 'pdf'\n",
    "output_folder = 'txt'\n",
    "batch_convert_pdf_to_md(pdf_folder, output_folder)\n"
   ]
  },
  {
   "cell_type": "code",
   "execution_count": 2,
   "metadata": {},
   "outputs": [
    {
     "name": "stdout",
     "output_type": "stream",
     "text": [
      "Processed and saved BFDWJ294443998167406.txt\n",
      "Processed and saved BSVLC438504446863059.txt\n",
      "Processed and saved BUOZN419077603018294.txt\n",
      "Processed and saved BYNXL764719245224585.txt\n",
      "Processed and saved CVIKU112930131656550.txt\n",
      "Processed and saved DDHNA406989948611301.txt\n",
      "Processed and saved DHHFY474803707097567.txt\n",
      "Processed and saved DSGEE791709887334906.txt\n",
      "Processed and saved DSIMB636936690227237.txt\n",
      "Processed and saved EGFOU600623631189800.txt\n",
      "Processed and saved FXYHY821521327363899.txt\n",
      "Processed and saved IUTSO416473275051279.txt\n",
      "Processed and saved JCGWM909548503708677.txt\n",
      "Processed and saved KGVJX821721351433602.txt\n",
      "Processed and saved KTHMN904959102109693.txt\n",
      "Processed and saved LDVNK910184062431924.txt\n",
      "Processed and saved NEBJE430008161977425.txt\n",
      "Processed and saved NHZRW299126219096885.txt\n",
      "Processed and saved NLECU103437326390728.txt\n",
      "Processed and saved NSOCA568808643052061.txt\n",
      "Processed and saved OEEQA680128060024161.txt\n",
      "Processed and saved ONFYL351908871143354.txt\n",
      "Processed and saved PJFLS954259074905912.txt\n",
      "Processed and saved PPKDS702702030080664.txt\n",
      "Processed and saved PTLEV196172633452326.txt\n",
      "Processed and saved QCDNQ839041005188583.txt\n",
      "Processed and saved RIJIU327567670100008.txt\n",
      "Processed and saved SDSRU104057636809556.txt\n",
      "Processed and saved STTHD419887220378078.txt\n",
      "Processed and saved UOKVK340759535733471.txt\n",
      "Processed and saved UYYHG105771761160375.txt\n",
      "Processed and saved VMXBI813917592052114.txt\n",
      "Processed and saved VRNQG588242250317811.txt\n",
      "Processed and saved VTAJM960621684114851.txt\n",
      "Processed and saved WBBNH258798780470062.txt\n",
      "Processed and saved WIMFJ997717701583693.txt\n",
      "Processed and saved WLGRR909529393679199.txt\n",
      "Processed and saved XKNTF585826236398212.txt\n",
      "Processed and saved YRDJN367111294925160.txt\n",
      "Processed and saved ZMMIQ461945328311158.txt\n",
      "Processed and saved ZRFJG636933917014684.txt\n",
      "Processed and saved ZTCTL912131463521557.txt\n"
     ]
    }
   ],
   "source": [
    "import os\n",
    "import re\n",
    "\n",
    "def process_text(text):\n",
    "    text = re.sub(r\"([a-zA-Z])(\\n)([A-Z])\", r\"\\1. \\3\", text)  # Adds missing dot between sentences split across lines.\n",
    "    text = re.sub(r\"([a-zA-Z])\\n\", r\"\\1 \", text)  # Removes inappropriate line breaks within paragraphs.\n",
    "    #text = re.sub(r\"\\s{2,}\", \" \", text)  # Replace multiple spaces with a single space, if needed.\n",
    "    return text\n",
    "\n",
    "def process_files(directory_path):\n",
    "    if not os.path.exists(directory_path):\n",
    "        print(\"Directory does not exist:\", directory_path)\n",
    "        return\n",
    "    for filename in os.listdir(directory_path):\n",
    "        if filename.endswith(\".txt\"):\n",
    "            filepath = os.path.join(directory_path, filename)\n",
    "            try:\n",
    "                with open(filepath, 'r', encoding='utf-8') as file:\n",
    "                    content = file.read()\n",
    "\n",
    "                processed_content = process_text(content)\n",
    "\n",
    "                # Change the file extension from .md to .txt\n",
    "                txt_filename = os.path.splitext(filename)[0] + '.txt'\n",
    "                txt_filepath = os.path.join(directory_path, txt_filename)\n",
    "\n",
    "                with open(txt_filepath, 'w', encoding='utf-8') as file:\n",
    "                    file.write(processed_content)\n",
    "                print(f\"Processed and saved {txt_filename}\")\n",
    "            except Exception as e:\n",
    "                print(f\"Error processing {filename}: {e}\")\n",
    "\n",
    "directory_path = 'txt'\n",
    "process_files(directory_path)\n"
   ]
  }
 ],
 "metadata": {
  "kernelspec": {
   "display_name": "base",
   "language": "python",
   "name": "python3"
  },
  "language_info": {
   "codemirror_mode": {
    "name": "ipython",
    "version": 3
   },
   "file_extension": ".py",
   "mimetype": "text/x-python",
   "name": "python",
   "nbconvert_exporter": "python",
   "pygments_lexer": "ipython3",
   "version": "3.10.6"
  }
 },
 "nbformat": 4,
 "nbformat_minor": 2
}
